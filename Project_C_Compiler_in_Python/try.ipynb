{
 "cells": [
  {
   "cell_type": "code",
   "execution_count": 364,
   "metadata": {},
   "outputs": [
    {
     "data": {
      "text/plain": [
       "['printf', 'scanf', '#include']"
      ]
     },
     "execution_count": 364,
     "metadata": {},
     "output_type": "execute_result"
    }
   ],
   "source": [
    "functions = []\n",
    "\n",
    "with open('functions.txt', 'r') as funtion:\n",
    "    fun = funtion.readlines()\n",
    "\n",
    "for line in fun:\n",
    "    line = line.strip()\n",
    "    functions.append(line)\n",
    "\n",
    "functions"
   ]
  },
  {
   "cell_type": "code",
   "execution_count": 365,
   "metadata": {},
   "outputs": [
    {
     "data": {
      "text/plain": [
       "['int', 'float', 'void']"
      ]
     },
     "execution_count": 365,
     "metadata": {},
     "output_type": "execute_result"
    }
   ],
   "source": [
    "types = []\n",
    "\n",
    "with open('type.txt', 'r') as typee:\n",
    "    fun = typee.readlines()\n",
    "\n",
    "for line in fun:\n",
    "    line = line.strip()\n",
    "    types.append(line)\n",
    "\n",
    "types"
   ]
  },
  {
   "cell_type": "code",
   "execution_count": 366,
   "metadata": {},
   "outputs": [
    {
     "data": {
      "text/plain": [
       "['<stdio.h>', '<string.h>', '<conio.h>']"
      ]
     },
     "execution_count": 366,
     "metadata": {},
     "output_type": "execute_result"
    }
   ],
   "source": [
    "header = []\n",
    "\n",
    "with open('header.txt', 'r') as head:\n",
    "    fun = head.readlines()\n",
    "\n",
    "for line in fun:\n",
    "    line = line.strip()\n",
    "    header.append(line)\n",
    "\n",
    "header"
   ]
  },
  {
   "cell_type": "code",
   "execution_count": 367,
   "metadata": {},
   "outputs": [
    {
     "data": {
      "text/plain": [
       "['\"%d\"', '\"%f\"']"
      ]
     },
     "execution_count": 367,
     "metadata": {},
     "output_type": "execute_result"
    }
   ],
   "source": [
    "datatype_check = []\n",
    "\n",
    "with open('datatype.txt', 'r') as data:\n",
    "    fun = data.readlines()\n",
    "\n",
    "for line in fun:\n",
    "    line = line.strip()\n",
    "    datatype_check.append(line)\n",
    "\n",
    "datatype_check"
   ]
  },
  {
   "cell_type": "code",
   "execution_count": 368,
   "metadata": {},
   "outputs": [
    {
     "data": {
      "text/plain": [
       "['#include <stdio.h>',\n",
       " '#include <string.h>',\n",
       " '#define Max 10',\n",
       " 'void main()',\n",
       " '{',\n",
       " 'int a, b;',\n",
       " 'float c, d;',\n",
       " 'a = 10;',\n",
       " 'printf (\"%d\" , a);',\n",
       " 'b = 20;',\n",
       " 'printf (\"%d\" , a + b);',\n",
       " '}']"
      ]
     },
     "execution_count": 368,
     "metadata": {},
     "output_type": "execute_result"
    }
   ],
   "source": [
    "c_code = []\n",
    "\n",
    "with open('input.c', 'r') as code:\n",
    "    fun = code.readlines()\n",
    "\n",
    "for line in fun:\n",
    "    line = line.strip()\n",
    "    c_code.append(line)\n",
    "\n",
    "c_code"
   ]
  },
  {
   "cell_type": "code",
   "execution_count": 369,
   "metadata": {},
   "outputs": [
    {
     "name": "stdout",
     "output_type": "stream",
     "text": [
      "' <stdio.h> ' is the header file used in the code\n",
      "' <string.h> ' is the header file used in the code\n",
      "' Max ' is the constant used in the code with ' 10 ' as its value\n"
     ]
    }
   ],
   "source": [
    "#Header Update\n",
    "\n",
    "header_line = []\n",
    "typ = tuple(types)\n",
    "\n",
    "for line in c_code:\n",
    "    if not line.startswith(typ):\n",
    "        header_line.append(line)\n",
    "    else:\n",
    "        break\n",
    "\n",
    "header_line\n",
    "\n",
    "for head in header_line:\n",
    "    if not head.startswith('#'):\n",
    "        raise SyntaxError(\"Wrong Header\")\n",
    "\n",
    "\n",
    "header_divided = []\n",
    "\n",
    "for head in header_line:\n",
    "    head = head.split()\n",
    "    header_divided.append(head)\n",
    "\n",
    "header_divided\n",
    "\n",
    "for i in range(len(header_divided)):\n",
    "    # print(header_divided[i][0])\n",
    "    if header_divided[i][0] != '#include' and header_divided[i][0] != '#define':\n",
    "        raise SyntaxError(\"Wrong #\") \n",
    "\n",
    "flag_check = 0   \n",
    "for i in range(len(header_divided)):\n",
    "    if header_divided[i][0] == '#include':\n",
    "        flag_check = 0 \n",
    "        for head in header:\n",
    "            if header_divided[i][1] == head:\n",
    "                print(\"'\", header_divided[i][1], \"'\"\" is the header file used in the code\")\n",
    "                flag_check = 1\n",
    "                break\n",
    "\n",
    "if flag_check == 0:\n",
    "    raise SyntaxError(\"Wrong HeaderFile\")\n",
    "\n",
    "\n",
    "\n",
    "for i in range(len(header_divided)):\n",
    "    if header_divided[i][0] == '#define':\n",
    "        if len(header_divided[i]) != 3:\n",
    "            raise SyntaxError(\"Wrong #define\")\n",
    "        else:\n",
    "            print(\"'\", header_divided[i][1], \"'\"\" is the constant used in the code with \"\"'\", header_divided[i][2], \"'\"\" as its value\")\n",
    "\n"
   ]
  },
  {
   "cell_type": "code",
   "execution_count": 370,
   "metadata": {},
   "outputs": [
    {
     "data": {
      "text/plain": [
       "[['void', 'main()'],\n",
       " ['{'],\n",
       " ['int', 'a,', 'b;'],\n",
       " ['float', 'c,', 'd;'],\n",
       " ['a', '=', '10;'],\n",
       " ['printf (\"%d\" , a);'],\n",
       " ['b', '=', '20;'],\n",
       " ['printf (\"%d\" , a + b);'],\n",
       " ['}']]"
      ]
     },
     "execution_count": 370,
     "metadata": {},
     "output_type": "execute_result"
    }
   ],
   "source": [
    "ad_c_code = []\n",
    "\n",
    "for line in c_code:\n",
    "    if line.startswith('printf'):\n",
    "        ad_c_code.append([line])\n",
    "    elif not line.startswith('#'):\n",
    "        ad_c_code.append(line.split())\n",
    "    else:\n",
    "        pass\n",
    "\n",
    "\n",
    "ad_c_code"
   ]
  },
  {
   "cell_type": "code",
   "execution_count": 371,
   "metadata": {},
   "outputs": [
    {
     "name": "stdout",
     "output_type": "stream",
     "text": [
      "Type of function used is ' void '\n",
      "Name of the function is ' main() '\n"
     ]
    }
   ],
   "source": [
    "# checking for main function\n",
    "flag_check = 0\n",
    "\n",
    "for ty in types:\n",
    "    if ad_c_code[0][0] == ty:\n",
    "        print(\"Type of function used is \"\"'\", ad_c_code[0][0], \"'\")\n",
    "        flag_check = 1\n",
    "        break\n",
    "\n",
    "if flag_check == 0:\n",
    "    raise SyntaxError(\"Not a valid function type\")\n",
    "\n",
    "if flag_check == 1:\n",
    "    if ad_c_code[0][1] != 'main()':\n",
    "        raise SyntaxError(\"There is no main() function to run the code\")\n",
    "    else:\n",
    "        print(\"Name of the function is ' main() '\")\n",
    "\n",
    "ad_c_code = ad_c_code[1:]\n",
    "# ad_c_code"
   ]
  },
  {
   "cell_type": "code",
   "execution_count": 372,
   "metadata": {},
   "outputs": [],
   "source": [
    "# for brackets\n",
    "with open('input.c', 'r') as file:\n",
    "    content = file.read()\n",
    "    if (content.count('(') != content.count(')')) or content.count('{') != content.count('}'):\n",
    "        raise SyntaxError(\"Unbalanced brackets\")\n"
   ]
  },
  {
   "cell_type": "code",
   "execution_count": 373,
   "metadata": {},
   "outputs": [
    {
     "data": {
      "text/plain": [
       "[['int', 'a,', 'b;'],\n",
       " ['float', 'c,', 'd;'],\n",
       " ['a', '=', '10;'],\n",
       " ['printf (\"%d\" , a);'],\n",
       " ['b', '=', '20;'],\n",
       " ['printf (\"%d\" , a + b);']]"
      ]
     },
     "execution_count": 373,
     "metadata": {},
     "output_type": "execute_result"
    }
   ],
   "source": [
    "ad_c_code = ad_c_code[1:]\n",
    "ad_c_code = ad_c_code[:-1]\n",
    "ad_c_code"
   ]
  },
  {
   "cell_type": "code",
   "execution_count": 374,
   "metadata": {},
   "outputs": [],
   "source": [
    "for line in ad_c_code:\n",
    "    if not line[-1].endswith(';'):\n",
    "        raise SyntaxError(\"; Missing\")"
   ]
  },
  {
   "cell_type": "code",
   "execution_count": 375,
   "metadata": {},
   "outputs": [
    {
     "name": "stdout",
     "output_type": "stream",
     "text": [
      "' int ' type variable named ' a ' with value ' 10 ' is declared int the code\n",
      "' int ' type variable named ' b ' with value ' 20 ' is declared int the code\n",
      "' float ' type variable named ' c '\n",
      "' float ' type variable named ' d '\n"
     ]
    }
   ],
   "source": [
    "#symbol table\n",
    "symbol = []\n",
    "current_type = None\n",
    "\n",
    "for i in range(len(ad_c_code)):\n",
    "    # print(ad_c_code[i][0])\n",
    "    for ty in types:\n",
    "        if ad_c_code[i][0] == ty:\n",
    "            current_type = ty\n",
    "            # print(ad_c_code[i][0])\n",
    "            for sym in ad_c_code[i]:\n",
    "                symbol.append([ad_c_code[i][0], sym[:-1]])\n",
    "                \n",
    "\n",
    "# symbol = symbol[1:]\n",
    "# symbol\n",
    "\n",
    "i = 1\n",
    "for line in ad_c_code:\n",
    "    if '=' in line:\n",
    "        symbol[i].append(line[2][:-1])\n",
    "        i = i + 1\n",
    "\n",
    "for line in symbol:\n",
    "    if len(line) == 3:  \n",
    "        print(f\"' {line[0]} ' type variable named ' {line[1]} ' with value ' {line[2]} ' is declared int the code\")\n",
    "    elif line[0] == current_type:\n",
    "        print(f\"' {line[0]} ' type variable named ' {line[1]} '\")\n",
    "    current_type = line[0]\n",
    "\n"
   ]
  },
  {
   "cell_type": "code",
   "execution_count": 376,
   "metadata": {},
   "outputs": [
    {
     "data": {
      "text/plain": [
       "[['a', '=', '10;'],\n",
       " ['printf (\"%d\" , a);'],\n",
       " ['b', '=', '20;'],\n",
       " ['printf (\"%d\" , a + b);']]"
      ]
     },
     "execution_count": 376,
     "metadata": {},
     "output_type": "execute_result"
    }
   ],
   "source": [
    "i = 0\n",
    "for line in ad_c_code:\n",
    "    if line[0].startswith(typ):\n",
    "        i = i + 1\n",
    "\n",
    "ad_c_code = ad_c_code[i:]\n",
    "ad_c_code"
   ]
  },
  {
   "cell_type": "code",
   "execution_count": 377,
   "metadata": {},
   "outputs": [
    {
     "data": {
      "text/plain": [
       "['a', 'b', 'c', 'd']"
      ]
     },
     "execution_count": 377,
     "metadata": {},
     "output_type": "execute_result"
    }
   ],
   "source": [
    "final_symbol = []\n",
    "only_symbol = []\n",
    "current_type = None\n",
    "\n",
    "for line in symbol:\n",
    "    if current_type is None or line[0] != current_type:\n",
    "        current_type = line[0]\n",
    "        # print(current_type)\n",
    "        continue  # Skip the first occurrence of a type change\n",
    "\n",
    "    if len(line) == 3:\n",
    "        final_symbol.append([line[0], line[1], line[2]])\n",
    "    \n",
    "    if len(line) == 2:\n",
    "        final_symbol.append([line[0], line[1]])\n",
    "\n",
    "final_symbol\n",
    "for i in range(len(final_symbol)):\n",
    "    only_symbol.append(final_symbol[i][1])\n",
    "\n",
    "only_symbol\n",
    "\n"
   ]
  },
  {
   "cell_type": "code",
   "execution_count": 378,
   "metadata": {},
   "outputs": [],
   "source": [
    "with open('symbol_table.txt', 'w') as output_file:\n",
    "    output_file.write(\"Type\\tName\\tValue\\n\")\n",
    "    for line in final_symbol:\n",
    "        if len(line) == 3:  \n",
    "            output_file.write(f\"{line[0]}\\t\\t {line[1]}\\t\\t {line[2]}\\n\")\n",
    "        else:\n",
    "            output_file.write(f\"{line[0]}\\t\\t {line[1]}\\n\")"
   ]
  },
  {
   "cell_type": "code",
   "execution_count": 379,
   "metadata": {},
   "outputs": [],
   "source": [
    "flag_check = 0\n",
    "correct_line = []\n",
    "for line in ad_c_code:\n",
    "    # print(\"hi\")\n",
    "    for symbol in final_symbol:\n",
    "        if line[0] == symbol[1]:\n",
    "            flag_check = 1\n",
    "            # print(\"ok\")\n",
    "    if flag_check == 0:\n",
    "        if len(line) == 3:\n",
    "            raise SyntaxError(\"Symbol not define\")   \n",
    "    else:\n",
    "        # print(line)\n",
    "        correct_line.append(line)\n",
    "    flag_check = 0\n",
    "\n",
    "for line in correct_line:\n",
    "    if line in ad_c_code:\n",
    "        ad_c_code.remove(line)\n"
   ]
  },
  {
   "cell_type": "code",
   "execution_count": 380,
   "metadata": {},
   "outputs": [
    {
     "data": {
      "text/plain": [
       "[['printf (\"%d\" , a);'], ['printf (\"%d\" , a + b);']]"
      ]
     },
     "execution_count": 380,
     "metadata": {},
     "output_type": "execute_result"
    }
   ],
   "source": [
    "ad_c_code"
   ]
  },
  {
   "cell_type": "code",
   "execution_count": 381,
   "metadata": {},
   "outputs": [
    {
     "data": {
      "text/plain": [
       "[['\"%d\" , a'], ['\"%d\" , a + b']]"
      ]
     },
     "execution_count": 381,
     "metadata": {},
     "output_type": "execute_result"
    }
   ],
   "source": [
    "printf_contents = []\n",
    "\n",
    "for line in ad_c_code:\n",
    "    if line[0].startswith('printf'):\n",
    "        opening_index = line[0].find('(')\n",
    "        closing_index = line[0].find(')')\n",
    "        if opening_index != -1 and closing_index != -1:\n",
    "            content_within_parentheses = line[0][opening_index + 1: closing_index]\n",
    "            printf_contents.append([content_within_parentheses])\n",
    "        else:\n",
    "            raise SyntaxError(\"No parentheses found within printf statement\")\n",
    "    else:\n",
    "        raise SyntaxError(\"Wrong Statement used\")\n",
    "\n",
    "printf_contents\n"
   ]
  },
  {
   "cell_type": "code",
   "execution_count": 382,
   "metadata": {},
   "outputs": [
    {
     "data": {
      "text/plain": [
       "[['\"%d\"', ',', 'a'], ['\"%d\"', ',', 'a', '+', 'b']]"
      ]
     },
     "execution_count": 382,
     "metadata": {},
     "output_type": "execute_result"
    }
   ],
   "source": [
    "split_printf_contents = []\n",
    "\n",
    "for line in printf_contents:\n",
    "    lin = line[0].split()\n",
    "    split_printf_contents.append(lin)\n",
    "\n",
    "split_printf_contents"
   ]
  },
  {
   "cell_type": "code",
   "execution_count": 383,
   "metadata": {},
   "outputs": [
    {
     "name": "stdout",
     "output_type": "stream",
     "text": [
      "10\n",
      "30\n"
     ]
    }
   ],
   "source": [
    "opreations = ['+', '-' , '*', '/']\n",
    "store_val = []\n",
    "flag_check1 = 0\n",
    "flag_check2 = 0\n",
    "\n",
    "def get_symdol_value(sym):\n",
    "    for line in final_symbol:\n",
    "        for i in range(len(line)):\n",
    "            if line[i] == sym and len(line) == 3:\n",
    "                return line[i+1]\n",
    "\n",
    "for line in split_printf_contents:\n",
    "    flag_check1 = 0\n",
    "    flag_check2 = 0\n",
    "    store_val.clear()\n",
    "    for i in range(len(line)):\n",
    "        if line[i] in only_symbol:\n",
    "            sym = line[i]\n",
    "            val = get_symdol_value(sym)\n",
    "            store_val.append(val)\n",
    "    for j in range(len(line)):\n",
    "        if line[j] in datatype_check:\n",
    "            flag_check1 = 1\n",
    "            for k in range(len(line)):\n",
    "                if line[k] in opreations:\n",
    "                    flag_check2 = 1\n",
    "                    if line[k] == '+':\n",
    "                        print(int(store_val[0]) + int(store_val[1]))\n",
    "                    if line[k] == '-':\n",
    "                        print(int(store_val[0]) - int(store_val[1]))\n",
    "                    if line[k] == '*':\n",
    "                        print(int(store_val[0]) * int(store_val[1]))\n",
    "                    if line[k] == '/':\n",
    "                        print(int(store_val[0]) / int(store_val[1]))\n",
    "            if flag_check2 == 0:\n",
    "                print(val)\n",
    "    if flag_check1 == 0:\n",
    "        raise SyntaxError(\"Data type is Missing\")        \n",
    "    "
   ]
  },
  {
   "cell_type": "code",
   "execution_count": null,
   "metadata": {},
   "outputs": [],
   "source": []
  },
  {
   "cell_type": "code",
   "execution_count": null,
   "metadata": {},
   "outputs": [],
   "source": []
  },
  {
   "cell_type": "code",
   "execution_count": null,
   "metadata": {},
   "outputs": [],
   "source": []
  }
 ],
 "metadata": {
  "kernelspec": {
   "display_name": "base",
   "language": "python",
   "name": "python3"
  },
  "language_info": {
   "codemirror_mode": {
    "name": "ipython",
    "version": 3
   },
   "file_extension": ".py",
   "mimetype": "text/x-python",
   "name": "python",
   "nbconvert_exporter": "python",
   "pygments_lexer": "ipython3",
   "version": "3.11.3"
  }
 },
 "nbformat": 4,
 "nbformat_minor": 2
}
