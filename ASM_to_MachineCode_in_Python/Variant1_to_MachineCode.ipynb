{
 "cells": [
  {
   "cell_type": "code",
   "execution_count": 1,
   "metadata": {},
   "outputs": [
    {
     "data": {
      "text/plain": [
       "[['AD', '09', 'C', '400'],\n",
       " ['AD', '13', 'S', '1'],\n",
       " ['DL', '0D', 'C', '5'],\n",
       " ['IS', '10', 'R', '3', 'S', '1'],\n",
       " ['IS', '01', 'R', '3', 'L', '1'],\n",
       " ['DL', '0C', 'C', '4'],\n",
       " ['AD', '13', 'S', '2'],\n",
       " ['IS', '12', 'R', '2', 'L', '2'],\n",
       " ['AD', '0B'],\n",
       " ['IS', '02', 'R', '3', 'R', '2'],\n",
       " ['AD', '11', 'S', '3'],\n",
       " ['AD', '0F', 'S', '1'],\n",
       " ['IS', '12', 'R', '3', 'L', '3'],\n",
       " ['IS', '01', 'R', '3', 'R', '2'],\n",
       " ['IS', '10', 'S', '2', 'R', '3'],\n",
       " ['AD', '0B'],\n",
       " ['AD', '11', 'S', '4'],\n",
       " ['IS', '10', 'R', '1', 'L', '4'],\n",
       " ['IS', '01', 'R', '1', 'L', '5'],\n",
       " ['IS', '10', 'S', '6', 'R', '1'],\n",
       " ['AD', '0B'],\n",
       " ['IS', '01', 'R', '1', 'L', '6'],\n",
       " ['IS', '12', 'R', '3', 'R', '1'],\n",
       " ['IS', '02', 'R', '3', 'L', '7'],\n",
       " ['IS', '10', 'R', '3', 'S', '6'],\n",
       " ['DL', '0D', 'C', '5'],\n",
       " ['AD', '0F', 'S', '5'],\n",
       " ['AD', '11', 'S', '6'],\n",
       " ['AD', '0E'],\n",
       " ['AD', '0A']]"
      ]
     },
     "execution_count": 1,
     "metadata": {},
     "output_type": "execute_result"
    }
   ],
   "source": [
    "intermediate_code = []\n",
    "\n",
    "with open('intermediate_code.txt', 'r') as file:\n",
    "    lines = file.readlines()\n",
    "\n",
    "for line in lines:\n",
    "    line = line.strip()\n",
    "    line = line.strip('(')\n",
    "    line = line.strip(')')\n",
    "    line = line.split(', ')\n",
    "    line[1:2] = line[1].split(') (')\n",
    "    if not line:\n",
    "        continue  # Skip empty lines\n",
    "\n",
    "    intermediate_code.append(line)\n",
    "\n",
    "for i in range(len(intermediate_code)):\n",
    "    if (len(intermediate_code[i]) >= 4):\n",
    "        intermediate_code[i][3:4] = intermediate_code[i][3].split(') (')\n",
    "\n",
    "intermediate_code"
   ]
  },
  {
   "cell_type": "code",
   "execution_count": 2,
   "metadata": {},
   "outputs": [
    {
     "data": {
      "text/plain": [
       "{'1': ('A', '400'),\n",
       " '2': ('B', '404'),\n",
       " '3': ('NEXT', '409'),\n",
       " '4': ('S1', '415'),\n",
       " '5': ('S3', '422'),\n",
       " '6': ('C', '434')}"
      ]
     },
     "execution_count": 2,
     "metadata": {},
     "output_type": "execute_result"
    }
   ],
   "source": [
    "symbol_table = {}\n",
    "\n",
    "with open('symbol_table.txt', 'r') as file:\n",
    "    lines = file.readlines()\n",
    "\n",
    "for line in lines:\n",
    "    index, name, address = line.strip().split(',')\n",
    "    symbol_table[index] = (name, address)\n",
    "\n",
    "symbol_table"
   ]
  },
  {
   "cell_type": "code",
   "execution_count": 3,
   "metadata": {},
   "outputs": [
    {
     "data": {
      "text/plain": [
       "{'1': ('=5', '407'),\n",
       " '2': ('=4', '408'),\n",
       " '3': ('=2', '417'),\n",
       " '4': ('=25', '424'),\n",
       " '5': ('=12', '425'),\n",
       " '6': ('=1', '434'),\n",
       " '7': ('=2', '435')}"
      ]
     },
     "execution_count": 3,
     "metadata": {},
     "output_type": "execute_result"
    }
   ],
   "source": [
    "literal_table = {}\n",
    "\n",
    "with open('literal_table.txt', 'r') as file:\n",
    "    lines = file.readlines()\n",
    "\n",
    "for line in lines:\n",
    "    index, name, address = line.strip().split(',')\n",
    "    literal_table[index] = (name, address)\n",
    "\n",
    "literal_table"
   ]
  },
  {
   "cell_type": "code",
   "execution_count": 4,
   "metadata": {},
   "outputs": [],
   "source": [
    "def get_symbol_adress(index):\n",
    "    if index in symbol_table:\n",
    "        return symbol_table[index][1]\n",
    "    else:\n",
    "        pass\n",
    "\n",
    "def get_literal_adress(index):\n",
    "    if index in literal_table:\n",
    "        return literal_table[index][1]\n",
    "    else:\n",
    "        pass"
   ]
  },
  {
   "cell_type": "code",
   "execution_count": 5,
   "metadata": {},
   "outputs": [
    {
     "data": {
      "text/plain": [
       "[' ',\n",
       " ' ',\n",
       " ['DL', '0D', 'C', '5'],\n",
       " ['IS', '10', 'R', '3', 'S', '1'],\n",
       " ['IS', '01', 'R', '3', 'L', '1'],\n",
       " ['DL', '0C', 'C', '4'],\n",
       " ' ',\n",
       " ['IS', '12', 'R', '2', 'L', '2'],\n",
       " ' ',\n",
       " ['IS', '02', 'R', '3', 'R', '2'],\n",
       " ' ',\n",
       " ' ',\n",
       " ['IS', '12', 'R', '3', 'L', '3'],\n",
       " ['IS', '01', 'R', '3', 'R', '2'],\n",
       " ['IS', '10', 'S', '2', 'R', '3'],\n",
       " ' ',\n",
       " ' ',\n",
       " ['IS', '10', 'R', '1', 'L', '4'],\n",
       " ['IS', '01', 'R', '1', 'L', '5'],\n",
       " ['IS', '10', 'S', '6', 'R', '1'],\n",
       " ' ',\n",
       " ['IS', '01', 'R', '1', 'L', '6'],\n",
       " ['IS', '12', 'R', '3', 'R', '1'],\n",
       " ['IS', '02', 'R', '3', 'L', '7'],\n",
       " ['IS', '10', 'R', '3', 'S', '6'],\n",
       " ['DL', '0D', 'C', '5'],\n",
       " ' ',\n",
       " ' ',\n",
       " ' ',\n",
       " ' ']"
      ]
     },
     "execution_count": 5,
     "metadata": {},
     "output_type": "execute_result"
    }
   ],
   "source": [
    "adjust_intermediate_code = []\n",
    "\n",
    "for i in range(len(intermediate_code)):\n",
    "    if (intermediate_code[i][0] != 'AD'):\n",
    "        adjust_intermediate_code.append(intermediate_code[i])\n",
    "    else:\n",
    "        adjust_intermediate_code.append(\" \")\n",
    "\n",
    "# print(intermediate_code[0])\n",
    "\n",
    "adjust_intermediate_code"
   ]
  },
  {
   "cell_type": "code",
   "execution_count": 6,
   "metadata": {},
   "outputs": [
    {
     "data": {
      "text/plain": [
       "[[' '],\n",
       " [' '],\n",
       " ['0D', '5'],\n",
       " ['10', '3', '400'],\n",
       " ['01', '3', '407'],\n",
       " ['0C', '4'],\n",
       " [' '],\n",
       " ['12', '2', '408'],\n",
       " [' '],\n",
       " ['02', '3', '2'],\n",
       " [' '],\n",
       " [' '],\n",
       " ['12', '3', '417'],\n",
       " ['01', '3', '2'],\n",
       " ['10', '404', '3'],\n",
       " [' '],\n",
       " [' '],\n",
       " ['10', '1', '424'],\n",
       " ['01', '1', '425'],\n",
       " ['10', '434', '1'],\n",
       " [' '],\n",
       " ['01', '1', '434'],\n",
       " ['12', '3', '1'],\n",
       " ['02', '3', '435'],\n",
       " ['10', '3', '434'],\n",
       " ['0D', '5'],\n",
       " [' '],\n",
       " [' '],\n",
       " [' '],\n",
       " [' ']]"
      ]
     },
     "execution_count": 6,
     "metadata": {},
     "output_type": "execute_result"
    }
   ],
   "source": [
    "machine_code = []\n",
    "\n",
    "for i in range(len(adjust_intermediate_code)):\n",
    "    if (adjust_intermediate_code[i] == ' '):\n",
    "        machine_code.append([adjust_intermediate_code[i]])\n",
    "    if (adjust_intermediate_code[i] != ' '):\n",
    "        machine_code.append([adjust_intermediate_code[i][1]])\n",
    "\n",
    "    if (adjust_intermediate_code[i] != ' ' and adjust_intermediate_code[i][2] == 'R'):\n",
    "        machine_code[-1].append(adjust_intermediate_code[i][3])\n",
    "\n",
    "    if (adjust_intermediate_code[i] != ' ' and adjust_intermediate_code[i][2] == 'C'):\n",
    "        machine_code[-1].append(adjust_intermediate_code[i][3])       \n",
    "\n",
    "    if (adjust_intermediate_code[i] != ' ' and adjust_intermediate_code[i][2] == 'S'):\n",
    "        symbol_address = get_symbol_adress(adjust_intermediate_code[i][3])\n",
    "        machine_code[-1].append(symbol_address)\n",
    "\n",
    "    if (adjust_intermediate_code[i] != ' ' and adjust_intermediate_code[i][2] == 'L'):\n",
    "        literal_address = get_literal_adress(adjust_intermediate_code[i][3])\n",
    "        machine_code[-1].append(literal_address)\n",
    "\n",
    "\n",
    "    if (len(adjust_intermediate_code[i]) > 4):\n",
    "        if (adjust_intermediate_code[i][4] == 'R'):\n",
    "            machine_code[-1].append(adjust_intermediate_code[i][5])\n",
    "\n",
    "        if (adjust_intermediate_code[i][4] == 'C'):\n",
    "            machine_code[-1].append(adjust_intermediate_code[i][5])\n",
    "\n",
    "        if (adjust_intermediate_code[i][4] == 'S'):\n",
    "            symbol_address = get_symbol_adress(adjust_intermediate_code[i][5])\n",
    "            machine_code[-1].append(symbol_address)\n",
    "\n",
    "        if (adjust_intermediate_code[i][4] == 'L'):\n",
    "            literal_address = get_literal_adress(adjust_intermediate_code[i][5])\n",
    "            machine_code[-1].append(literal_address)\n",
    "        else:\n",
    "            pass\n",
    "    \n",
    "    else:\n",
    "        pass\n",
    "\n",
    "machine_code"
   ]
  },
  {
   "cell_type": "code",
   "execution_count": 7,
   "metadata": {},
   "outputs": [
    {
     "data": {
      "text/plain": [
       "[[' ', ' ', ' '],\n",
       " [' ', ' ', ' '],\n",
       " ['0D', '0', '5'],\n",
       " ['10', '3', '400'],\n",
       " ['01', '3', '407'],\n",
       " ['0C', '0', '4'],\n",
       " [' ', ' ', ' '],\n",
       " ['12', '2', '408'],\n",
       " [' ', ' ', ' '],\n",
       " ['02', '3', '2'],\n",
       " [' ', ' ', ' '],\n",
       " [' ', ' ', ' '],\n",
       " ['12', '3', '417'],\n",
       " ['01', '3', '2'],\n",
       " ['10', '404', '3'],\n",
       " [' ', ' ', ' '],\n",
       " [' ', ' ', ' '],\n",
       " ['10', '1', '424'],\n",
       " ['01', '1', '425'],\n",
       " ['10', '434', '1'],\n",
       " [' ', ' ', ' '],\n",
       " ['01', '1', '434'],\n",
       " ['12', '3', '1'],\n",
       " ['02', '3', '435'],\n",
       " ['10', '3', '434'],\n",
       " ['0D', '0', '5'],\n",
       " [' ', ' ', ' '],\n",
       " [' ', ' ', ' '],\n",
       " [' ', ' ', ' '],\n",
       " [' ', ' ', ' ']]"
      ]
     },
     "execution_count": 7,
     "metadata": {},
     "output_type": "execute_result"
    }
   ],
   "source": [
    "final_machine_code = []\n",
    "\n",
    "# print(len(machine_code[0]))\n",
    "for line in machine_code:\n",
    "    if (len(line) == 1):\n",
    "        final_machine_code.append(line + [\" \"] + [\" \"])\n",
    "    if (len(line) == 2):\n",
    "        final_machine_code.append([line[0]] + [\"0\"] + [line[1]])\n",
    "    if (len(line) == 3):\n",
    "        final_machine_code.append(line)\n",
    "\n",
    "final_machine_code"
   ]
  },
  {
   "cell_type": "code",
   "execution_count": 9,
   "metadata": {},
   "outputs": [],
   "source": [
    "with open('machine_code.txt', 'w') as output_file:\n",
    "    output_file.write(\"Machine Code:\\n\\n\")\n",
    "    for line in final_machine_code:\n",
    "        output_file.write('\\t'.join(line) + '\\n')\n",
    "        "
   ]
  },
  {
   "cell_type": "code",
   "execution_count": null,
   "metadata": {},
   "outputs": [],
   "source": []
  }
 ],
 "metadata": {
  "kernelspec": {
   "display_name": "base",
   "language": "python",
   "name": "python3"
  },
  "language_info": {
   "codemirror_mode": {
    "name": "ipython",
    "version": 3
   },
   "file_extension": ".py",
   "mimetype": "text/x-python",
   "name": "python",
   "nbconvert_exporter": "python",
   "pygments_lexer": "ipython3",
   "version": "3.11.3"
  },
  "orig_nbformat": 4
 },
 "nbformat": 4,
 "nbformat_minor": 2
}
