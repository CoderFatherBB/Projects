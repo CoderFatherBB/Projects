{
 "cells": [
  {
   "cell_type": "code",
   "execution_count": 3,
   "metadata": {},
   "outputs": [
    {
     "data": {
      "text/plain": [
       "{'ADD': ('01', 2, 'IS'),\n",
       " 'SUB': ('02', 2, 'IS'),\n",
       " 'MOVR': ('03', 2, 'IS'),\n",
       " 'MOVM': ('04', 2, 'IS'),\n",
       " 'JMP': ('05', 2, 'IS'),\n",
       " 'JNZ': ('06', 2, 'IS'),\n",
       " 'INC': ('07', 2, 'IS'),\n",
       " 'DEC': ('08', 2, 'IS'),\n",
       " 'START': ('09', 0, 'AD'),\n",
       " 'END': ('0A', 0, 'AD'),\n",
       " 'LTORG': ('0B', 0, 'AD'),\n",
       " 'DC': ('0C', 1, 'DL'),\n",
       " 'DS': ('0D', 0, 'DL'),\n",
       " 'STOP': ('0E', 0, 'AD'),\n",
       " 'BC': ('0F', 0, 'AD'),\n",
       " 'MOVE': ('10', 2, 'IS'),\n",
       " 'ORG': ('11', 0, 'AD'),\n",
       " 'MUL': ('12', 2, 'IS'),\n",
       " 'READ': ('13', 0, 'AD')}"
      ]
     },
     "execution_count": 3,
     "metadata": {},
     "output_type": "execute_result"
    }
   ],
   "source": [
    "mot_table = {}\n",
    "\n",
    "with open('mot_table.txt', 'r') as mot_file:\n",
    "    mot_lines = mot_file.readlines()\n",
    "\n",
    "for line in mot_lines:\n",
    "    name, opcode, size, mtype = line.strip().split(',')\n",
    "    mot_table[name] = (opcode, int(size), mtype)\n",
    "\n",
    "mot_table"
   ]
  },
  {
   "cell_type": "code",
   "execution_count": 4,
   "metadata": {},
   "outputs": [
    {
     "data": {
      "text/plain": [
       "[['START', '400'],\n",
       " ['READ', 'A'],\n",
       " ['A', 'DS', '5'],\n",
       " ['MOVE', 'AREG', 'A'],\n",
       " ['ADD', 'AREG', '=5'],\n",
       " ['B', 'DC', '4'],\n",
       " ['READ', 'B'],\n",
       " ['MUL', 'BREG', '=4'],\n",
       " ['LTORG'],\n",
       " ['NEXT', 'SUB', 'AREG', 'BREG'],\n",
       " ['ORG', 'NEXT', '+4'],\n",
       " ['BC', 'A'],\n",
       " ['MUL', 'AREG', '=2'],\n",
       " ['ADD', 'AREG', 'BREG'],\n",
       " ['S1', 'MOVE', 'B', 'AREG'],\n",
       " ['LTORG'],\n",
       " ['ORG', 'S1', '+10'],\n",
       " ['MOVE', 'CREG', '=25'],\n",
       " ['ADD', 'CREG', '=12'],\n",
       " ['S3', 'MOVE', 'C', 'CREG'],\n",
       " ['LTORG'],\n",
       " ['ADD', 'CREG', '=1'],\n",
       " ['MUL', 'AREG', 'CREG'],\n",
       " ['SUB', 'AREG', '=2'],\n",
       " ['MOVE', 'AREG', 'C'],\n",
       " ['C', 'DS', '5'],\n",
       " ['BC', 'S3'],\n",
       " ['ORG', 'C', '+6'],\n",
       " ['STOP'],\n",
       " ['END']]"
      ]
     },
     "execution_count": 4,
     "metadata": {},
     "output_type": "execute_result"
    }
   ],
   "source": [
    "lc = 100\n",
    "lines = []\n",
    "words = []\n",
    "\n",
    "with open('asm_code.txt', 'r') as asm_file:\n",
    "    asm_lines = asm_file.readlines()\n",
    "\n",
    "for line in asm_lines:\n",
    "    lines.append(line.strip())\n",
    "    word = line.strip().split()\n",
    "    if not word:\n",
    "        continue  # Skip empty lines\n",
    "    words.append(word)\n",
    "\n",
    "    instruction = word[0]\n",
    "    operands = ' '.join(word[1:])\n",
    "\n",
    "    if instruction == \"START\":\n",
    "        lc = int(operands)\n",
    "        continue\n",
    "\n",
    "lc\n",
    "lines\n",
    "words"
   ]
  },
  {
   "cell_type": "code",
   "execution_count": 5,
   "metadata": {},
   "outputs": [
    {
     "data": {
      "text/plain": [
       "[['', 'START', '400', ''],\n",
       " ['', 'READ', 'A', ''],\n",
       " ['A', 'DS', '5', ''],\n",
       " ['', 'MOVE', 'AREG', 'A'],\n",
       " ['', 'ADD', 'AREG', '=5'],\n",
       " ['B', 'DC', '4', ''],\n",
       " ['', 'READ', 'B', ''],\n",
       " ['', 'MUL', 'BREG', '=4'],\n",
       " ['', 'LTORG', '', ''],\n",
       " ['NEXT', 'SUB', 'AREG', 'BREG'],\n",
       " ['', 'ORG', 'NEXT', '+4'],\n",
       " ['', 'BC', 'A', ''],\n",
       " ['', 'MUL', 'AREG', '=2'],\n",
       " ['', 'ADD', 'AREG', 'BREG'],\n",
       " ['S1', 'MOVE', 'B', 'AREG'],\n",
       " ['', 'LTORG', '', ''],\n",
       " ['', 'ORG', 'S1', '+10'],\n",
       " ['', 'MOVE', 'CREG', '=25'],\n",
       " ['', 'ADD', 'CREG', '=12'],\n",
       " ['S3', 'MOVE', 'C', 'CREG'],\n",
       " ['', 'LTORG', '', ''],\n",
       " ['', 'ADD', 'CREG', '=1'],\n",
       " ['', 'MUL', 'AREG', 'CREG'],\n",
       " ['', 'SUB', 'AREG', '=2'],\n",
       " ['', 'MOVE', 'AREG', 'C'],\n",
       " ['C', 'DS', '5', ''],\n",
       " ['', 'BC', 'S3', ''],\n",
       " ['', 'ORG', 'C', '+6'],\n",
       " ['', 'STOP', '', ''],\n",
       " ['', 'END', '', '']]"
      ]
     },
     "execution_count": 5,
     "metadata": {},
     "output_type": "execute_result"
    }
   ],
   "source": [
    "adjusted_code = []\n",
    "\n",
    "for line in words:\n",
    "    num_components = len(line)\n",
    "    if num_components == 4:\n",
    "        adjusted_code.append(line)\n",
    "    elif num_components == 3:\n",
    "        if (line[1] == 'DC' or line[1] == 'DS'):\n",
    "            adjusted_code.append(line + [''])\n",
    "        else:    \n",
    "            adjusted_code.append([''] + line)\n",
    "    elif num_components == 2:\n",
    "        adjusted_code.append([''] + line + [''])\n",
    "    elif num_components == 1:\n",
    "        adjusted_code.append([''] + line + ['', ''] )\n",
    "\n",
    "adjusted_code\n"
   ]
  },
  {
   "cell_type": "code",
   "execution_count": 6,
   "metadata": {},
   "outputs": [
    {
     "data": {
      "text/plain": [
       "[['=5', 1], ['=4', 1], ['=2', 2], ['=25', 3], ['=12', 3], ['=1', 4], ['=2', 4]]"
      ]
     },
     "execution_count": 6,
     "metadata": {},
     "output_type": "execute_result"
    }
   ],
   "source": [
    "mnemonics = []\n",
    "symbols = []\n",
    "pool_table = []\n",
    "pool_count = 1\n",
    "pool_index = 1\n",
    "pool_count_index = []\n",
    "literals = []\n",
    "\n",
    "pool_count_index.append(pool_index)\n",
    "for i in range(len(adjusted_code)):\n",
    "    mnemonics.append(adjusted_code[i][1])\n",
    "    if (adjusted_code[i][1] == 'LTORG'):\n",
    "        pool_count_index.append(pool_index)\n",
    "        pool_count = pool_count + 1\n",
    "    if (adjusted_code[i][0] != ''):\n",
    "        symbols.append(adjusted_code[i][0])\n",
    "    if (adjusted_code[i][1].startswith(\"=\")):\n",
    "        pool_table.append([adjusted_code[i][1] , pool_count])\n",
    "        pool_index = pool_index + 1\n",
    "        literals.append(adjusted_code[i][3])\n",
    "    if (adjusted_code[i][3].startswith(\"=\")):\n",
    "        pool_table.append([adjusted_code[i][3] , pool_count])\n",
    "        pool_index = pool_index + 1\n",
    "        literals.append(adjusted_code[i][3])\n",
    "\n",
    "# mnemonics\n",
    "# symbols\n",
    "# literals\n",
    "pool_table\n",
    "# pool_count_index"
   ]
  },
  {
   "cell_type": "code",
   "execution_count": 7,
   "metadata": {},
   "outputs": [
    {
     "data": {
      "text/plain": [
       "['START',\n",
       " 'BC',\n",
       " 'DS',\n",
       " 'ADD',\n",
       " 'LTORG',\n",
       " 'STOP',\n",
       " 'DC',\n",
       " 'ORG',\n",
       " 'END',\n",
       " 'MOVE',\n",
       " 'MUL',\n",
       " 'SUB',\n",
       " 'READ']"
      ]
     },
     "execution_count": 7,
     "metadata": {},
     "output_type": "execute_result"
    }
   ],
   "source": [
    "mnemonics = list(set(mnemonics))\n",
    "mnemonics"
   ]
  },
  {
   "cell_type": "code",
   "execution_count": 8,
   "metadata": {},
   "outputs": [
    {
     "data": {
      "text/plain": [
       "{'START': ('09', 0, 'AD'),\n",
       " 'BC': ('0F', 0, 'AD'),\n",
       " 'DS': ('0D', 0, 'DL'),\n",
       " 'ADD': ('01', 2, 'IS'),\n",
       " 'LTORG': ('0B', 0, 'AD'),\n",
       " 'STOP': ('0E', 0, 'AD'),\n",
       " 'DC': ('0C', 1, 'DL'),\n",
       " 'ORG': ('11', 0, 'AD'),\n",
       " 'END': ('0A', 0, 'AD'),\n",
       " 'MOVE': ('10', 2, 'IS'),\n",
       " 'MUL': ('12', 2, 'IS'),\n",
       " 'SUB': ('02', 2, 'IS'),\n",
       " 'READ': ('13', 0, 'AD')}"
      ]
     },
     "execution_count": 8,
     "metadata": {},
     "output_type": "execute_result"
    }
   ],
   "source": [
    "mot_table_used = {}\n",
    "\n",
    "for mnemonic in mnemonics:\n",
    "    if mnemonic in mot_table:\n",
    "        mot_table_used[mnemonic] = mot_table[mnemonic]\n",
    "    else:\n",
    "        raise ValueError(f\"Mnemonic '{mnemonic}' not found in mot_table. Execution stopped.\")\n",
    "\n",
    "mot_table_used"
   ]
  },
  {
   "cell_type": "code",
   "execution_count": 9,
   "metadata": {},
   "outputs": [],
   "source": [
    "# size = []\n",
    "# opcode = []\n",
    "# mtype = []\n",
    "\n",
    "def get_size(mnemonic):\n",
    "    if mnemonic in mot_table_used:\n",
    "        return mot_table_used[mnemonic][1]\n",
    "    else:\n",
    "        raise ValueError(f\"Mnemonic '{mnemonic}' size not found in mot_table. Execution stopped.\")\n",
    "\n",
    "def get_opcode(mnemonic):\n",
    "    if mnemonic in mot_table_used:\n",
    "        return mot_table_used[mnemonic][0]\n",
    "    else:\n",
    "        raise ValueError(f\"Mnemonic '{mnemonic}' opcode not found in mot_table. Execution stopped.\")\n",
    "\n",
    "def get_mtype(mnemonic):\n",
    "    if mnemonic in mot_table_used:\n",
    "        return mot_table_used[mnemonic][2]\n",
    "    else:\n",
    "        raise ValueError(f\"Mnemonic '{mnemonic}' mtype not found in mot_table. Execution stopped.\")\n",
    "\n",
    "\n",
    "found = False\n",
    "def get_pool_table_index(literal):\n",
    "    for literall in pool_table:\n",
    "        if literal[0] == literall[0]:\n",
    "            # print(literal[1])\n",
    "            return literal[1]\n",
    "    if found:\n",
    "        pass\n",
    "    else:\n",
    "        raise ValueError(f\"Literal'{literal}' not found in pool_table. Execution stopped.\")\n",
    "\n",
    "# mnemonic = 'MOVM'\n",
    "# get_size(mnemonic)\n",
    "# get_opcode(mnemonic)\n",
    "# get_mtype(mnemonic)\n",
    "\n",
    "# for mnemonic in mnemonics:\n",
    "#     size.append(get_size(mnemonic))\n",
    "#     opcode.append(get_opcode(mnemonic))\n",
    "#     mtype.append(get_mtype(mnemonic))\n",
    "\n",
    "# size\n",
    "# opcode\n",
    "# mtype\n",
    "\n",
    "# get_pool_table_index(\"='5'\")"
   ]
  },
  {
   "cell_type": "code",
   "execution_count": 10,
   "metadata": {},
   "outputs": [
    {
     "data": {
      "text/plain": [
       "[407, 408, 417, 424, 425, 434, 435]"
      ]
     },
     "execution_count": 10,
     "metadata": {},
     "output_type": "execute_result"
    }
   ],
   "source": [
    "lc_start = lc\n",
    "lc_end = lc\n",
    "symbol_address = []\n",
    "literal_address = []\n",
    "pool_table_count = 1\n",
    "# size_list = []\n",
    "\n",
    "for i in range(len(adjusted_code)):\n",
    "    mnemonic = adjusted_code[i][1]\n",
    "    size = get_size(mnemonic)\n",
    "    # size_list.append(size)\n",
    "    if (adjusted_code[i][0] != ''):\n",
    "        symbol_address.append(lc_end)\n",
    "\n",
    "    if (adjusted_code[i][1] == 'LTORG'):\n",
    "        for literal in pool_table:\n",
    "            if (get_pool_table_index(literal) == pool_table_count):\n",
    "                literal_address.append(lc_end)\n",
    "                lc_end = lc_end + 1\n",
    "        pool_table_count = pool_table_count + 1\n",
    "\n",
    "    lc_end = lc_end + size\n",
    "\n",
    "# print(lc_end)\n",
    "\n",
    "for literal in pool_table:\n",
    "    if (get_pool_table_index(literal) == pool_table_count):\n",
    "        literal_address.append(lc_end)\n",
    "        lc_end = lc_end + 1\n",
    "\n",
    "\n",
    "# lc_start\n",
    "# lc_end\n",
    "# size_list\n",
    "# symbol_address\n",
    "literal_address\n",
    "# pool_table_count\n"
   ]
  },
  {
   "cell_type": "code",
   "execution_count": 11,
   "metadata": {},
   "outputs": [
    {
     "data": {
      "text/plain": [
       "{'A': (400, 1),\n",
       " 'B': (404, 2),\n",
       " 'NEXT': (409, 3),\n",
       " 'S1': (415, 4),\n",
       " 'S3': (422, 5),\n",
       " 'C': (434, 6)}"
      ]
     },
     "execution_count": 11,
     "metadata": {},
     "output_type": "execute_result"
    }
   ],
   "source": [
    "symbol_table = {}\n",
    "count = 1\n",
    "\n",
    "for symbol, address in zip(symbols, symbol_address): # In this code, the zip() function is used to iterate over both the symbols and symbol_address lists simultaneously\n",
    "    symbol_table[symbol] = (address, count)\n",
    "    count = count + 1\n",
    "\n",
    "symbol_table"
   ]
  },
  {
   "cell_type": "code",
   "execution_count": 12,
   "metadata": {},
   "outputs": [
    {
     "data": {
      "text/plain": [
       "[['=5', 407, 1],\n",
       " ['=4', 408, 2],\n",
       " ['=2', 417, 3],\n",
       " ['=25', 424, 4],\n",
       " ['=12', 425, 5],\n",
       " ['=1', 434, 6],\n",
       " ['=2', 435, 7]]"
      ]
     },
     "execution_count": 12,
     "metadata": {},
     "output_type": "execute_result"
    }
   ],
   "source": [
    "literal_table = []\n",
    "count = 1\n",
    "\n",
    "for literal, address in zip(literals, literal_address): # In this code, the zip() function is used to iterate over both the symbols and symbol_address lists simultaneously\n",
    "    literal_table.append([literal ,address, count])\n",
    "    count = count + 1\n",
    "\n",
    "literal_table"
   ]
  },
  {
   "cell_type": "code",
   "execution_count": 13,
   "metadata": {},
   "outputs": [
    {
     "data": {
      "text/plain": [
       "['AREG',\n",
       " 'AREG',\n",
       " 'BREG',\n",
       " 'AREG',\n",
       " 'AREG',\n",
       " 'AREG',\n",
       " 'CREG',\n",
       " 'CREG',\n",
       " 'CREG',\n",
       " 'AREG',\n",
       " 'AREG',\n",
       " 'AREG']"
      ]
     },
     "execution_count": 13,
     "metadata": {},
     "output_type": "execute_result"
    }
   ],
   "source": [
    "registers = []\n",
    "\n",
    "for i in range(len(adjusted_code)):\n",
    "    if not adjusted_code[i][2].isdigit() and adjusted_code[i][2] not in symbols and adjusted_code[i][2] != '':\n",
    "        registers.append(adjusted_code[i][2])\n",
    "\n",
    "registers"
   ]
  },
  {
   "cell_type": "code",
   "execution_count": 14,
   "metadata": {},
   "outputs": [
    {
     "data": {
      "text/plain": [
       "['CREG', 'BREG', 'AREG']"
      ]
     },
     "execution_count": 14,
     "metadata": {},
     "output_type": "execute_result"
    }
   ],
   "source": [
    "registers = list(set(registers))\n",
    "registers"
   ]
  },
  {
   "cell_type": "code",
   "execution_count": 15,
   "metadata": {},
   "outputs": [
    {
     "data": {
      "text/plain": [
       "{'CREG': 1, 'BREG': 2, 'AREG': 3}"
      ]
     },
     "execution_count": 15,
     "metadata": {},
     "output_type": "execute_result"
    }
   ],
   "source": [
    "register_table = {}\n",
    "count = 1\n",
    "\n",
    "for register in registers:\n",
    "    register_table[register] = count\n",
    "    count = count + 1\n",
    "\n",
    "register_table"
   ]
  },
  {
   "cell_type": "code",
   "execution_count": 16,
   "metadata": {},
   "outputs": [],
   "source": [
    "with open('output_tables.txt', 'w') as output_file:\n",
    "    output_file.write(\"MOT Table:\\n\\n\")\n",
    "    output_file.write(\"Mnemonic\\tOpcode\\tSize\\tMType\\n\")\n",
    "    for mnemonic, (opcode, size, mtype) in mot_table_used.items():\n",
    "        if (len(mnemonic) == 4):\n",
    "            mnemonic = mnemonic + \" \"\n",
    "        if (len(mnemonic) == 3):\n",
    "            mnemonic = mnemonic + \" \" + \" \"\n",
    "        if (len(mnemonic) == 2):\n",
    "            mnemonic = mnemonic + \" \" + \" \" + \" \"\n",
    "        output_file.write(f\"{mnemonic}\\t\\t  {opcode}\\t {size}\\t\\t {mtype}\\n\")\n",
    "    \n",
    "    output_file.write(\"\\n\\n\\nSymbol Table:\\n\\n\")\n",
    "    output_file.write(\"Index\\tSymbol\\tAddress\\n\")\n",
    "    for symbol, (address, count) in symbol_table.items():\n",
    "        # if (len(symbol) == 4):\n",
    "        #     symbol = symbol + \" \"\n",
    "        # if (len(symbol) == 3):\n",
    "        #     symbol = symbol + \" \" + \" \"\n",
    "        if (len(symbol) == 2):\n",
    "            symbol = symbol + \" \" + \" \" + \" \"\n",
    "        if (len(symbol) == 1):\n",
    "            symbol = symbol + \" \" + \" \" + \" \" + \" \"\n",
    "        output_file.write(f\"{count}\\t\\t{symbol}\\t  {address}\\n\")\n",
    "\n",
    "    output_file.write(\"\\n\\n\\nPool Table:\\n\\n\")\n",
    "    output_file.write(\"Index\\n\")\n",
    "    for count in pool_count_index:\n",
    "        output_file.write(f\"{count}\\t\\t \\n\")\n",
    "\n",
    "\n",
    "    output_file.write(\"\\n\\n\\nLiteral Table:\\n\\n\")\n",
    "    output_file.write(\"Index\\tLiteral\\t Address\\n\")\n",
    "    for literal, address, count in literal_table:\n",
    "        if (len(literal) == 2):\n",
    "            literal = literal + \" \"\n",
    "        output_file.write(f\"{count}\\t\\t {literal}\\t  {address}\\n\")\n",
    "\n",
    "    output_file.write(\"\\n\\n\\nRegister Table:\\n\\n\")\n",
    "    output_file.write(\"Index\\tRegister\\n\")\n",
    "    for register, index in register_table.items():\n",
    "        output_file.write(f\"{index}\\t\\t {register}\\n\")"
   ]
  },
  {
   "cell_type": "code",
   "execution_count": 17,
   "metadata": {},
   "outputs": [
    {
     "name": "stdout",
     "output_type": "stream",
     "text": [
      "All tables are complete.\n"
     ]
    }
   ],
   "source": [
    "def check_table(table, expected_values):\n",
    "    for key, values in table.items():\n",
    "        if isinstance(values, tuple) and len(values) != expected_values:\n",
    "            raise ValueError(f\"Table '{table}' has an incomplete entry for key '{key}'.\")\n",
    "\n",
    "# Define the expected number of values for each table\n",
    "expected_values_mot = 3\n",
    "expected_values_symbol = 2\n",
    "expected_values_literal = 2\n",
    "expected_values_register = 1\n",
    "\n",
    "# Check each table\n",
    "check_table(mot_table_used, expected_values_mot)\n",
    "check_table(symbol_table, expected_values_symbol)\n",
    "# check_table(literal_table, expected_values_literal)\n",
    "check_table(register_table, expected_values_register)\n",
    "\n",
    "# The code will only reach this point if all tables are complete\n",
    "print(\"All tables are complete.\")"
   ]
  },
  {
   "cell_type": "code",
   "execution_count": 18,
   "metadata": {},
   "outputs": [],
   "source": [
    "def get_register_index(register):\n",
    "    if register in register_table:\n",
    "        return register_table[register]\n",
    "    else:\n",
    "        return None\n",
    "    \n",
    "def get_symbol_index(symbol):\n",
    "    if symbol in symbol_table:\n",
    "        return symbol_table[symbol][1]\n",
    "    else:\n",
    "        return None\n",
    "\n",
    "found = False\n",
    "count = 1 \n",
    "def get_literal_index(literal):\n",
    "    global count\n",
    "    line = 0\n",
    "    for literall in literal_table:\n",
    "        line = line + 1\n",
    "        if line == count:  \n",
    "            if literal == literall[0]:\n",
    "                count = count + 1\n",
    "                return literall[2]\n",
    "    if found:\n",
    "        pass    \n",
    "    else:\n",
    "        return None\n",
    "\n",
    "correct = False    \n",
    "def check_literal(literal):\n",
    "    for literall in literal_table:\n",
    "        if literal == literall[0]:\n",
    "            return True\n",
    "    if correct:\n",
    "        pass\n",
    "    else:\n",
    "        return False"
   ]
  },
  {
   "cell_type": "code",
   "execution_count": 19,
   "metadata": {},
   "outputs": [
    {
     "data": {
      "text/plain": [
       "[[('AD', '09'), ('C', '400')],\n",
       " [('AD', '13'), ('S', 1)],\n",
       " [('DL', '0D'), ('C', '5')],\n",
       " [('IS', '10'), ('R', 3), ('S', 1)],\n",
       " [('IS', '01'), ('R', 3), ('L', 1)],\n",
       " [('DL', '0C'), ('C', '4')],\n",
       " [('AD', '13'), ('S', 2)],\n",
       " [('IS', '12'), ('R', 2), ('L', 2)],\n",
       " [('AD', '0B')],\n",
       " [('IS', '02'), ('R', 3), ('R', 2)],\n",
       " [('AD', '11'), ('S', 3)],\n",
       " [('AD', '0F'), ('S', 1)],\n",
       " [('IS', '12'), ('R', 3), ('L', 3)],\n",
       " [('IS', '01'), ('R', 3), ('R', 2)],\n",
       " [('IS', '10'), ('S', 2), ('R', 3)],\n",
       " [('AD', '0B')],\n",
       " [('AD', '11'), ('S', 4)],\n",
       " [('IS', '10'), ('R', 1), ('L', 4)],\n",
       " [('IS', '01'), ('R', 1), ('L', 5)],\n",
       " [('IS', '10'), ('S', 6), ('R', 1)],\n",
       " [('AD', '0B')],\n",
       " [('IS', '01'), ('R', 1), ('L', 6)],\n",
       " [('IS', '12'), ('R', 3), ('R', 1)],\n",
       " [('IS', '02'), ('R', 3), ('L', 7)],\n",
       " [('IS', '10'), ('R', 3), ('S', 6)],\n",
       " [('DL', '0D'), ('C', '5')],\n",
       " [('AD', '0F'), ('S', 5)],\n",
       " [('AD', '11'), ('S', 6)],\n",
       " [('AD', '0E')],\n",
       " [('AD', '0A')]]"
      ]
     },
     "execution_count": 19,
     "metadata": {},
     "output_type": "execute_result"
    }
   ],
   "source": [
    "intermediate_code = []\n",
    "\n",
    "for line in adjusted_code:\n",
    "    mnemonic = line[1]\n",
    "    if mnemonic in mot_table_used:\n",
    "        opcode, _, mtype = mot_table_used[mnemonic]\n",
    "        intermediate_code.append([(mtype, opcode)])\n",
    "\n",
    "    operand1 = line[2]\n",
    "    if operand1.isdigit():\n",
    "        intermediate_code[-1].append(('C', operand1))\n",
    "    elif operand1 in register_table:\n",
    "        intermediate_code[-1].append(('R', get_register_index(operand1)))\n",
    "    elif operand1 in symbol_table:\n",
    "        intermediate_code[-1].append(('S', get_symbol_index(operand1)))\n",
    "    else:\n",
    "        pass\n",
    "    \n",
    "    operand2 = line[3]\n",
    "    if operand2.isdigit():\n",
    "        intermediate_code[-1].append(('C', operand2))\n",
    "    elif operand2 in register_table:\n",
    "        intermediate_code[-1].append(('R', get_register_index(operand2)))\n",
    "    elif operand2 in symbol_table:\n",
    "        intermediate_code[-1].append(('S', get_symbol_index(operand2)))\n",
    "    elif check_literal(operand2):\n",
    "        intermediate_code[-1].append(('L', get_literal_index(operand2)))\n",
    "    else:\n",
    "        pass    \n",
    "\n",
    "intermediate_code"
   ]
  },
  {
   "cell_type": "code",
   "execution_count": 20,
   "metadata": {},
   "outputs": [],
   "source": [
    "with open('intermediate_code.txt', 'w') as output_file:\n",
    "    # output_file.write(\"Intermediate Code:\\n\\n\")\n",
    "    for line in intermediate_code:\n",
    "        if len(line) == 3:\n",
    "            (mtype, opcode), (operand1, value1), (operand2, value2) = line\n",
    "            output_file.write(f\"({mtype}, {opcode}) ({operand1}, {value1}) ({operand2}, {value2})\\n\")\n",
    "        if len(line) == 2:\n",
    "            (mtype, opcode), (operand1, value1) = line\n",
    "            output_file.write(f\"({mtype}, {opcode}) ({operand1}, {value1})\\n\")\n",
    "        elif len(line) == 1:\n",
    "            (mtype, opcode) = line[0]\n",
    "            output_file.write(f\"({mtype}, {opcode})\\n\")\n"
   ]
  },
  {
   "cell_type": "code",
   "execution_count": 21,
   "metadata": {},
   "outputs": [],
   "source": [
    "# with open('used_mot_table.txt', 'w') as output_file:\n",
    "#     for mnemonic, (opcode, size, mtype) in mot_table_used.items():\n",
    "#         output_file.write(f\"{mnemonic},{opcode},{size},{mtype}\\n\")\n",
    "\n",
    "with open('symbol_table.txt', 'w') as output_file:\n",
    "    for symbol, (address, count) in symbol_table.items():\n",
    "        output_file.write(f\"{count},{symbol},{address}\\n\")\n",
    "\n",
    "\n",
    "with open('literal_table.txt', 'w') as output_file:\n",
    "    for literal, address, count in literal_table:\n",
    "        output_file.write(f\"{count},{literal},{address}\\n\")\n",
    "\n",
    "with open('register_table.txt', 'w') as output_file:\n",
    "    for register, index in register_table.items():\n",
    "        output_file.write(f\"{index},{register}\\n\")"
   ]
  },
  {
   "cell_type": "code",
   "execution_count": null,
   "metadata": {},
   "outputs": [],
   "source": []
  }
 ],
 "metadata": {
  "kernelspec": {
   "display_name": "base",
   "language": "python",
   "name": "python3"
  },
  "language_info": {
   "codemirror_mode": {
    "name": "ipython",
    "version": 3
   },
   "file_extension": ".py",
   "mimetype": "text/x-python",
   "name": "python",
   "nbconvert_exporter": "python",
   "pygments_lexer": "ipython3",
   "version": "3.11.3"
  },
  "orig_nbformat": 4
 },
 "nbformat": 4,
 "nbformat_minor": 2
}
